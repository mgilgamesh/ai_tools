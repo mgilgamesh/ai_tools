{
 "cells": [
  {
   "cell_type": "code",
   "execution_count": 6,
   "metadata": {
    "collapsed": true,
    "ExecuteTime": {
     "end_time": "2023-07-27T06:14:41.204251100Z",
     "start_time": "2023-07-27T06:14:41.162799800Z"
    }
   },
   "outputs": [
    {
     "name": "stdout",
     "output_type": "stream",
     "text": [
      "      A     B    C     D\n",
      "0  0.00  0.00  0.0  0.00\n",
      "1  0.25  0.25  0.2  0.25\n",
      "2  0.50  0.50  0.3  0.50\n",
      "3  0.75  0.75  0.5  0.75\n",
      "4  1.00  1.00  1.0  1.00\n"
     ]
    }
   ],
   "source": [
    "import pandas as pd\n",
    "from sklearn.preprocessing import MinMaxScaler\n",
    "\n",
    "# 假设你有以下 DataFrame\n",
    "df = pd.DataFrame({\n",
    "    'A': [1, 2, 3, 4, 5],\n",
    "    'B': [100, 200, 300, 400, 500],\n",
    "    'C': [2, 4, 5, 7, 12],\n",
    "    'D': [1000, 2000, 3000, 4000, 5000]\n",
    "})\n",
    "\n",
    "scaler = MinMaxScaler()\n",
    "\n",
    "# 创建一个新的DataFrame，包含原DataFrame的前两列\n",
    "df_new = pd.DataFrame()\n",
    "\n",
    "# 对第二列之后的每一列进行归一化，并将结果放在新的DataFrame里\n",
    "for col in df.columns[:]:\n",
    "    df_new[col] = scaler.fit_transform(df[[col]])[:, 0]\n",
    "\n",
    "print(df_new)\n"
   ]
  }
 ],
 "metadata": {
  "kernelspec": {
   "display_name": "Python 3",
   "language": "python",
   "name": "python3"
  },
  "language_info": {
   "codemirror_mode": {
    "name": "ipython",
    "version": 2
   },
   "file_extension": ".py",
   "mimetype": "text/x-python",
   "name": "python",
   "nbconvert_exporter": "python",
   "pygments_lexer": "ipython2",
   "version": "2.7.6"
  }
 },
 "nbformat": 4,
 "nbformat_minor": 0
}
