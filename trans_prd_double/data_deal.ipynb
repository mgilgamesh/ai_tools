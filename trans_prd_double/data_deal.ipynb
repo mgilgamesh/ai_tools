{
 "cells": [
  {
   "cell_type": "code",
   "execution_count": 5,
   "metadata": {},
   "outputs": [],
   "source": [
    "import pandas as pd\n",
    "\n",
    "data = pd.read_csv(\"data.csv\")\n",
    "data[\"Crystal_weight_diff\"] = 0\n",
    "data.to_csv(\"data.csv\",index=False)\n",
    "\n",
    "\n",
    "\n"
   ]
  },
  {
   "cell_type": "code",
   "execution_count": 4,
   "metadata": {},
   "outputs": [],
   "source": [
    "import torch\n",
    "import torch.nn as nn\n",
    "import torch.utils.data as data\n",
    "import matplotlib.pyplot as plt\n",
    "import numpy as np\n",
    "import pandas as pd\n",
    "import scipy.ndimage\n",
    "from scipy.stats import pearsonr\n",
    "from torch.utils.tensorboard import SummaryWriter\n",
    "from model_use import All_Transformer\n",
    "from torch.utils.data import Dataset, TensorDataset\n",
    "from sklearn.preprocessing import MinMaxScaler\n",
    "\n",
    "pd_data = pd.read_csv(\"si_data_Time_2.csv\")\n",
    "scaler = MinMaxScaler()\n",
    "# 创建一个新的DataFrame，包含原DataFrame的前两列\n",
    "# 归一化的数据\n",
    "df_norm = pd.DataFrame()\n",
    "# 对第二列之后的每一列进行归一化，并将结果放在新的DataFrame里\n",
    "for col in pd_data.columns[:]:\n",
    "    df_norm[col] = scaler.fit_transform(pd_data[[col]])[:, 0]\n",
    "# print(df_new)\n",
    "df_norm.to_csv(\"data.csv\", index=False)\n"
   ]
  },
  {
   "cell_type": "code",
   "execution_count": 3,
   "metadata": {},
   "outputs": [],
   "source": [
    "\n",
    "\n",
    "import torch\n",
    "import torch.nn as nn\n",
    "import torch.utils.data as data\n",
    "import matplotlib.pyplot as plt\n",
    "import numpy as np\n",
    "import pandas as pd\n",
    "import scipy.ndimage\n",
    "from scipy.stats import pearsonr\n",
    "from torch.utils.tensorboard import SummaryWriter\n",
    "from model_use import All_Transformer\n",
    "from torch.utils.data import Dataset, TensorDataset\n",
    "from sklearn.preprocessing import MinMaxScaler\n",
    "\n",
    "def apply_function(x):\n",
    "    if x < 0:\n",
    "        return 0\n",
    "    else:\n",
    "        return x\n",
    "\n",
    "\n",
    "pd_data = pd.read_csv(\"si_data_Time_2.csv\")\n",
    "\n",
    "pd_data[\"Crystal_weight_diff\"] = pd_data[\"Crystal_weight_diff\"].apply(apply_function)\n",
    "# pd_data[\"Real_growth_rate\"] = 0\n",
    "\n",
    "pd_data.to_csv(\"si_data_Time_2.csv\",index=False)\n",
    "\n"
   ]
  }
 ],
 "metadata": {
  "kernelspec": {
   "display_name": "generaldrl",
   "language": "python",
   "name": "python3"
  },
  "language_info": {
   "codemirror_mode": {
    "name": "ipython",
    "version": 3
   },
   "file_extension": ".py",
   "mimetype": "text/x-python",
   "name": "python",
   "nbconvert_exporter": "python",
   "pygments_lexer": "ipython3",
   "version": "3.9.6"
  },
  "orig_nbformat": 4
 },
 "nbformat": 4,
 "nbformat_minor": 2
}
