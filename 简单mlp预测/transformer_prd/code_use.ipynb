{
 "cells": [
  {
   "cell_type": "code",
   "execution_count": 4,
   "metadata": {
    "collapsed": true,
    "ExecuteTime": {
     "end_time": "2023-07-13T08:30:07.520188Z",
     "start_time": "2023-07-13T08:30:07.456184200Z"
    }
   },
   "outputs": [
    {
     "name": "stdout",
     "output_type": "stream",
     "text": [
      "[[0.60005962 0.43332733]\n",
      " [0.02026937 0.83627956]\n",
      " [0.15971269 0.99979323]\n",
      " [0.05944601 0.24699404]\n",
      " [0.84683011 0.88299519]\n",
      " [0.30052512 0.35818583]\n",
      " [0.88465216 0.14566447]\n",
      " [0.59910327 0.60145355]\n",
      " [0.21735502 0.72638485]\n",
      " [0.28741221 0.4233679 ]]\n",
      "[[[0.60005962]\n",
      "  [0.02026937]\n",
      "  [0.15971269]\n",
      "  [0.05944601]\n",
      "  [0.84683011]\n",
      "  [0.30052512]\n",
      "  [0.88465216]\n",
      "  [0.59910327]\n",
      "  [0.21735502]\n",
      "  [0.28741221]]\n",
      "\n",
      " [[0.43332733]\n",
      "  [0.83627956]\n",
      "  [0.99979323]\n",
      "  [0.24699404]\n",
      "  [0.88299519]\n",
      "  [0.35818583]\n",
      "  [0.14566447]\n",
      "  [0.60145355]\n",
      "  [0.72638485]\n",
      "  [0.4233679 ]]]\n"
     ]
    }
   ],
   "source": [
    "import torch\n",
    "import torch.nn as nn\n",
    "import numpy as np\n",
    "a = data = np.random.rand(10, 2)\n",
    "b =  np.moveaxis(a, 0, -1)\n",
    "b = b[:,:,np.newaxis]\n",
    "print(a)\n",
    "print(b)\n",
    "\n",
    "\n",
    "\n"
   ]
  },
  {
   "cell_type": "code",
   "execution_count": 7,
   "outputs": [
    {
     "name": "stdout",
     "output_type": "stream",
     "text": [
      "tensor([[[-1.0082],\n",
      "         [-0.6055],\n",
      "         [ 0.1351],\n",
      "         [-0.9193],\n",
      "         [-0.9924],\n",
      "         [-0.6731],\n",
      "         [-1.5681],\n",
      "         [ 0.3806],\n",
      "         [-0.7775],\n",
      "         [-0.2772]],\n",
      "\n",
      "        [[-0.2303],\n",
      "         [ 0.7309],\n",
      "         [ 2.1551],\n",
      "         [-1.6122],\n",
      "         [-1.1881],\n",
      "         [-0.2781],\n",
      "         [-0.8394],\n",
      "         [ 2.4978],\n",
      "         [-0.4216],\n",
      "         [ 1.0201]]])\n",
      "tensor([[[-1.0082],\n",
      "         [-0.2303]],\n",
      "\n",
      "        [[-0.6055],\n",
      "         [ 0.7309]],\n",
      "\n",
      "        [[ 0.1351],\n",
      "         [ 2.1551]],\n",
      "\n",
      "        [[-0.9193],\n",
      "         [-1.6122]],\n",
      "\n",
      "        [[-0.9924],\n",
      "         [-1.1881]],\n",
      "\n",
      "        [[-0.6731],\n",
      "         [-0.2781]],\n",
      "\n",
      "        [[-1.5681],\n",
      "         [-0.8394]],\n",
      "\n",
      "        [[ 0.3806],\n",
      "         [ 2.4978]],\n",
      "\n",
      "        [[-0.7775],\n",
      "         [-0.4216]],\n",
      "\n",
      "        [[-0.2772],\n",
      "         [ 1.0201]]])\n",
      "tensor([[-1.0082, -0.2303],\n",
      "        [-0.6055,  0.7309],\n",
      "        [ 0.1351,  2.1551],\n",
      "        [-0.9193, -1.6122],\n",
      "        [-0.9924, -1.1881],\n",
      "        [-0.6731, -0.2781],\n",
      "        [-1.5681, -0.8394],\n",
      "        [ 0.3806,  2.4978],\n",
      "        [-0.7775, -0.4216],\n",
      "        [-0.2772,  1.0201]])\n"
     ]
    }
   ],
   "source": [
    "import  torch\n",
    "data = torch.randn(2,10,1)\n",
    "x_p = data.permute(1, 0, 2)\n",
    "x_p_new = x_p.squeeze()\n",
    "print(data)\n",
    "print(x_p)\n",
    "print(x_p_new)\n",
    "\n",
    "\n"
   ],
   "metadata": {
    "collapsed": false,
    "ExecuteTime": {
     "end_time": "2023-07-13T08:44:25.140791Z",
     "start_time": "2023-07-13T08:44:25.105978Z"
    }
   }
  },
  {
   "cell_type": "code",
   "execution_count": 3,
   "outputs": [
    {
     "name": "stdout",
     "output_type": "stream",
     "text": [
      "tensor([[ True, False, False],\n",
      "        [ True,  True, False],\n",
      "        [ True,  True,  True]])\n",
      "tensor([[ True,  True,  True],\n",
      "        [False,  True,  True],\n",
      "        [False, False,  True]])\n"
     ]
    }
   ],
   "source": [
    "import torch\n",
    "size = 3\n",
    "\n",
    "m = (torch.tril(torch.ones(size, size)) == 1)\n",
    "print(m)\n",
    "d =  m.transpose(0, 1)\n",
    "print(d)"
   ],
   "metadata": {
    "collapsed": false,
    "ExecuteTime": {
     "end_time": "2023-07-17T09:42:33.717370Z",
     "start_time": "2023-07-17T09:42:33.693082900Z"
    }
   }
  },
  {
   "cell_type": "code",
   "execution_count": 46,
   "outputs": [
    {
     "name": "stdout",
     "output_type": "stream",
     "text": [
      "['9|', ' 15:23:11.323842|{\"晶升\": null, \"主加功率\": null, \"晶转\": null, \"埚转\": null, \"直径\": null, \"设定生长速度\": null, \"实际生长速度\": null, \"液口距\": null, \"实际液面温度\": null, \"埚升\": null, \"晶体长度\": null, \"晶体重量\": null, \"状态\": null, \"底加功率\": null, \"温度速率\": null, \"功率速率\": null, \"埚跟比\": null, \"主室压力\": null, \"干泵频率/节流阀开度\": null, \"氩气流量\": null, \"坩埚位置\": null, \"籽晶位置\": null, \"热屏位置\": null, \"净重\": null, \"总重量\": null, \"提出重量\": null, \"剩余重量\": null, \"放肩角度\": null, \"热屏水温\": null, \"热屏流量\": null, \"PRESSURE_PC\": null, \"主加电流\": null, \"直径原始\": null}|{\"晶升指令\": 68.27431522380324}\\n\\n9|', ' 15:23:11.763151|{\"晶升\": null, \"主加功率\": null, \"晶转\": null, \"埚转\": null, \"直径\": null, \"设定生长速度\": null, \"实际生长速度\": null, \"液口距\": null, \"实际液面温度\": null, \"埚升\": null, \"晶体长度\": null, \"晶体重量\": null, \"状态\": null, \"底加功率\": null, \"温度速率\": null, \"功率速率\": null, \"埚跟比\": null, \"主室压力\": null, \"干泵频率/节流阀开度\": null, \"氩气流量\": null, \"坩埚位置\": null, \"籽晶位置\": null, \"热屏位置\": null, \"净重\": null, \"总重量\": null, \"提出重量\": null, \"剩余重量\": null, \"放肩角度\": null, \"热屏水温\": null, \"热屏流量\": null, \"PRESSURE_PC\": null, \"主加电流\": null, \"直径原始\": null}|{\"晶升指令\": 69.54103721295611}']\n",
      "s_in: [' 15:23:11.323842', '{\"晶升\": null, \"主加功率\": null, \"晶转\": null, \"埚转\": null, \"直径\": null, \"设定生长速度\": null, \"实际生长速度\": null, \"液口距\": null, \"实际液面温度\": null, \"埚升\": null, \"晶体长度\": null, \"晶体重量\": null, \"状态\": null, \"底加功率\": null, \"温度速率\": null, \"功率速率\": null, \"埚跟比\": null, \"主室压力\": null, \"干泵频率/节流阀开度\": null, \"氩气流量\": null, \"坩埚位置\": null, \"籽晶位置\": null, \"热屏位置\": null, \"净重\": null, \"总重量\": null, \"提出重量\": null, \"剩余重量\": null, \"放肩角度\": null, \"热屏水温\": null, \"热屏流量\": null, \"PRESSURE_PC\": null, \"主加电流\": null, \"直径原始\": null}', '{\"晶升指令\": 68.27431522380324}\\n\\n9']\n",
      "s_in[0]:  15:23:11.323842\n",
      "s_in[1]: {\"晶升\": null, \"主加功率\": null, \"晶转\": null, \"埚转\": null, \"直径\": null, \"设定生长速度\": null, \"实际生长速度\": null, \"液口距\": null, \"实际液面温度\": null, \"埚升\": null, \"晶体长度\": null, \"晶体重量\": null, \"状态\": null, \"底加功率\": null, \"温度速率\": null, \"功率速率\": null, \"埚跟比\": null, \"主室压力\": null, \"干泵频率/节流阀开度\": null, \"氩气流量\": null, \"坩埚位置\": null, \"籽晶位置\": null, \"热屏位置\": null, \"净重\": null, \"总重量\": null, \"提出重量\": null, \"剩余重量\": null, \"放肩角度\": null, \"热屏水温\": null, \"热屏流量\": null, \"PRESSURE_PC\": null, \"主加电流\": null, \"直径原始\": null}\n",
      "s_in[2]: {\"晶升指令\": 68.27431522380324}\n",
      "s_in: [' 15:23:11.763151', '{\"晶升\": null, \"主加功率\": null, \"晶转\": null, \"埚转\": null, \"直径\": null, \"设定生长速度\": null, \"实际生长速度\": null, \"液口距\": null, \"实际液面温度\": null, \"埚升\": null, \"晶体长度\": null, \"晶体重量\": null, \"状态\": null, \"底加功率\": null, \"温度速率\": null, \"功率速率\": null, \"埚跟比\": null, \"主室压力\": null, \"干泵频率/节流阀开度\": null, \"氩气流量\": null, \"坩埚位置\": null, \"籽晶位置\": null, \"热屏位置\": null, \"净重\": null, \"总重量\": null, \"提出重量\": null, \"剩余重量\": null, \"放肩角度\": null, \"热屏水温\": null, \"热屏流量\": null, \"PRESSURE_PC\": null, \"主加电流\": null, \"直径原始\": null}', '{\"晶升指令\": 69.54103721295611}']\n",
      "s_in[0]:  15:23:11.763151\n",
      "s_in[1]: {\"晶升\": null, \"主加功率\": null, \"晶转\": null, \"埚转\": null, \"直径\": null, \"设定生长速度\": null, \"实际生长速度\": null, \"液口距\": null, \"实际液面温度\": null, \"埚升\": null, \"晶体长度\": null, \"晶体重量\": null, \"状态\": null, \"底加功率\": null, \"温度速率\": null, \"功率速率\": null, \"埚跟比\": null, \"主室压力\": null, \"干泵频率/节流阀开度\": null, \"氩气流量\": null, \"坩埚位置\": null, \"籽晶位置\": null, \"热屏位置\": null, \"净重\": null, \"总重量\": null, \"提出重量\": null, \"剩余重量\": null, \"放肩角度\": null, \"热屏水温\": null, \"热屏流量\": null, \"PRESSURE_PC\": null, \"主加电流\": null, \"直径原始\": null}\n",
      "s_in[2]: {\"晶升指令\": 69.54103721295611}\n"
     ]
    }
   ],
   "source": [
    "import pandas as pd\n",
    "import json\n",
    "import re\n",
    "\n",
    "data = \"\"\"9|2023-06-29 15:23:11.323842|{\"晶升\": null, \"主加功率\": null, \"晶转\": null, \"埚转\": null, \"直径\": null, \"设定生长速度\": null, \"实际生长速度\": null, \"液口距\": null, \"实际液面温度\": null, \"埚升\": null, \"晶体长度\": null, \"晶体重量\": null, \"状态\": null, \"底加功率\": null, \"温度速率\": null, \"功率速率\": null, \"埚跟比\": null, \"主室压力\": null, \"干泵频率/节流阀开度\": null, \"氩气流量\": null, \"坩埚位置\": null, \"籽晶位置\": null, \"热屏位置\": null, \"净重\": null, \"总重量\": null, \"提出重量\": null, \"剩余重量\": null, \"放肩角度\": null, \"热屏水温\": null, \"热屏流量\": null, \"PRESSURE_PC\": null, \"主加电流\": null, \"直径原始\": null}|{\"晶升指令\": 68.27431522380324}\n",
    "\n",
    "9|2023-06-29 15:23:11.763151|{\"晶升\": null, \"主加功率\": null, \"晶转\": null, \"埚转\": null, \"直径\": null, \"设定生长速度\": null, \"实际生长速度\": null, \"液口距\": null, \"实际液面温度\": null, \"埚升\": null, \"晶体长度\": null, \"晶体重量\": null, \"状态\": null, \"底加功率\": null, \"温度速率\": null, \"功率速率\": null, \"埚跟比\": null, \"主室压力\": null, \"干泵频率/节流阀开度\": null, \"氩气流量\": null, \"坩埚位置\": null, \"籽晶位置\": null, \"热屏位置\": null, \"净重\": null, \"总重量\": null, \"提出重量\": null, \"剩余重量\": null, \"放肩角度\": null, \"热屏水温\": null, \"热屏流量\": null, \"PRESSURE_PC\": null, \"主加电流\": null, \"直径原始\": null}|{\"晶升指令\": 69.54103721295611}\"\"\"\n",
    "\n",
    "# 解析整个字符串\n",
    "# datas = data.split('|2023-06-29')\n",
    "# for s in datas:\n",
    "#     if \"晶升\" in s:\n",
    "#         print(s)\n",
    "#         print(\"...\")\n",
    "datas = re.split(\"2023-06-29\", data)\n",
    "print(datas)\n",
    "df_data = pd.DataFrame()\n",
    "for s in datas:\n",
    "    if \"晶升\" in s:\n",
    "        s_in =    [x for x in s.split(\"|\") if x]\n",
    "        # print(s)\n",
    "        # print(\"s_in:\",s_in)\n",
    "        # print(\"s_in[0]:\",s_in[0])\n",
    "        # print(\"s_in[1]:\",s_in[1])\n",
    "        # print(\"s_in[2]:\",s_in[2].split(\"}\")[0]+\"}\")\n",
    "\n",
    "\n",
    "        data_dict = json.loads(s_in[1])\n",
    "        json_time = {\"时间\": s_in[0]}\n",
    "        json_append =  json.loads(s_in[2].split(\"}\")[0]+\"}\")\n",
    "        # print(data_dict)\n",
    "        # print(type(data_dict))\n",
    "        # print(type(json_time))\n",
    "        # print(type(json_append))\n",
    "        dict_concat = {**json_time,**json_append,**data_dict }\n",
    "        # print(dict_concat)\n",
    "        # 转换为DataFrame\n",
    "        df_one = pd.DataFrame(dict_concat, index=[0])\n",
    "        df_data=pd.concat([df_data,df_one],axis=0,ignore_index=True)\n",
    "\n",
    "df_data.to_csv(\"all_data.csv\")\n"
   ],
   "metadata": {
    "collapsed": false,
    "ExecuteTime": {
     "end_time": "2023-07-18T03:29:37.256690Z",
     "start_time": "2023-07-18T03:29:37.204091300Z"
    }
   }
  }
 ],
 "metadata": {
  "kernelspec": {
   "display_name": "Python 3",
   "language": "python",
   "name": "python3"
  },
  "language_info": {
   "codemirror_mode": {
    "name": "ipython",
    "version": 2
   },
   "file_extension": ".py",
   "mimetype": "text/x-python",
   "name": "python",
   "nbconvert_exporter": "python",
   "pygments_lexer": "ipython2",
   "version": "2.7.6"
  }
 },
 "nbformat": 4,
 "nbformat_minor": 0
}
